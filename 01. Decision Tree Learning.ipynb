{
 "cells": [
  {
   "cell_type": "code",
   "execution_count": 4,
   "metadata": {
    "slideshow": {
     "slide_type": "skip"
    }
   },
   "outputs": [
    {
     "name": "stdout",
     "output_type": "stream",
     "text": [
      "The autoreload extension is already loaded. To reload it, use:\n",
      "  %reload_ext autoreload\n"
     ]
    }
   ],
   "source": [
    "# ======================================================================================\n",
    "# Notebook setup\n",
    "# \n",
    "# Run this cell before all others to make sure that the Jupyter notebook works properly\n",
    "# ======================================================================================\n",
    "\n",
    "# Automatically reload all imported modules\n",
    "%load_ext autoreload\n",
    "%autoreload 2\n",
    "\n",
    "import pandas as pd\n",
    "import numpy as np\n",
    "from matplotlib import pyplot as plt\n",
    "\n",
    "figsize = (14, 3.5)"
   ]
  },
  {
   "cell_type": "markdown",
   "metadata": {
    "slideshow": {
     "slide_type": "slide"
    }
   },
   "source": [
    "# Decision Trees"
   ]
  },
  {
   "cell_type": "markdown",
   "metadata": {
    "slideshow": {
     "slide_type": "subslide"
    }
   },
   "source": [
    "## Decision Trees\n",
    "\n",
    "**_Decision Trees_ are a type of Machine Learning model**\n",
    "\n",
    "* They were originally introduced for classification tasks\n",
    "* ...And they provide a prediction via _recursive splitting_\n",
    "\n",
    "<center>\n",
    "<img src=\"assets/DT.png\" width=50%/>\n",
    "</center>"
   ]
  },
  {
   "cell_type": "markdown",
   "metadata": {
    "slideshow": {
     "slide_type": "subslide"
    }
   },
   "source": [
    "## Decision Trees\n",
    "\n",
    "**_Decision Trees_ are a type of Machine Learning model**\n",
    "\n",
    "* Decision Trees consist of nodes, connected by parent-child relations\n",
    "* There is a single _root_ with no parent. Nodes with no child are called _leaves_\n",
    "\n",
    "<center>\n",
    "<img src=\"assets/DT.png\" width=50%/>\n",
    "</center>"
   ]
  },
  {
   "cell_type": "markdown",
   "metadata": {
    "slideshow": {
     "slide_type": "subslide"
    }
   },
   "source": [
    "## Decision Trees\n",
    "\n",
    "**_Decision Trees_ are a type of Machine Learning model**\n",
    "\n",
    "* The decision process always starts from the root\n",
    "* ...And leaf nodes are labeled with a prediction\n",
    "\n",
    "<center>\n",
    "<img src=\"assets/DT.png\" width=50%/>\n",
    "</center>"
   ]
  },
  {
   "cell_type": "markdown",
   "metadata": {
    "slideshow": {
     "slide_type": "subslide"
    }
   },
   "source": [
    "## Decision Trees\n",
    "\n",
    "**_Decision Trees_ are a type of Machine Learning model**\n",
    "\n",
    "* Non-leaves node correspond to a fork in the decision process\n",
    "* ...When making predictions, a child is picked _based on the value of one attribute_\n",
    "\n",
    "<center>\n",
    "<img src=\"assets/DT.png\" width=50%/>\n",
    "</center>"
   ]
  },
  {
   "cell_type": "markdown",
   "metadata": {
    "slideshow": {
     "slide_type": "subslide"
    }
   },
   "source": [
    "## Decision Trees\n",
    "\n",
    "**Decision Trees are a type of _symbolic_ ML models**\n",
    "\n",
    "...Actually, they are among the best examples of a symbolic technique\n",
    "\n",
    "* They are _interpretable_\n",
    "* They reason using discrete concepts\n",
    "* They are easy to analyze\n",
    "\n",
    "**They are very versatile**\n",
    "\n",
    "* They can handle both categorical and numerical input\n",
    "* They can handle inputs with _missing values_\n",
    "* They can approximate non-linear relation\n",
    "\n",
    "**They serve as the basis for _some of the most effective ML methods_**\n",
    "\n",
    "...Such as Random Forests, Gradient Boosted Trees, and Extra Randomized Trees"
   ]
  },
  {
   "cell_type": "markdown",
   "metadata": {
    "slideshow": {
     "slide_type": "subslide"
    }
   },
   "source": [
    "## Learning a Decision Trees\n",
    "\n",
    "**Decision trees are constructed via a recursive algorithm**\n",
    "\n",
    "* $\\text{learn}(x, y, n):$\n",
    "  - $\\text{if a stopping condition is met:}:$\n",
    "    - $\\text{return a leaf labeled with the majority class}$\n",
    "  - $\\text{if the termination condition is not satisfied}:$\n",
    "      - $\\text{pick an optimal attribute $j$ and threshold $\\theta$}$\n",
    "      - $\\text{$n_{\\mathit{left}} = $ learn$(x_{x_j \\leq \\theta}, y_{x_j \\leq \\theta})$}$\n",
    "      - $\\text{$n_{\\mathit{right}} = $ learn$(x_{x_j > \\theta}, y_{x_j > \\theta})$}$\n",
    "      - $\\text{connect $n_{\\mathit{left}}$ and $n_{\\mathit{right}}$ to the rest of the tree}$\n",
    "\n",
    "The process starts by calling $\\text{learn}$ with the original training set and $n = \\text{root}$"
   ]
  },
  {
   "cell_type": "markdown",
   "metadata": {
    "slideshow": {
     "slide_type": "subslide"
    }
   },
   "source": [
    "## Learning Decision Trees\n",
    "\n",
    "**How do we evaluate an attribute and threshold?**\n",
    "\n",
    "Typically, we look at the _uniformity of the resulting split_\n",
    "\n",
    "* We say that a $j$, $\\theta$ is better\n",
    "* ...If it leads to more uniform training sets in the children nodes\n",
    "\n",
    "**In detail:**\n",
    "\n",
    "* We consider the two vectors $y_{x_j \\leq \\theta}$ and $y_{x_j > \\theta}$\n",
    "* For each of them we compute a _impurity index_ $H(y_{x_j \\leq \\theta})$ and $H(y_{x_j < \\theta})$\n",
    "* Then we average over the set size:\n",
    "\n",
    "$$\n",
    "\\frac{|y_{x_j \\leq \\theta}|}{|y|} H(y_{x_j \\leq \\theta}) +\n",
    "\\frac{|y_{x_j > \\theta}|}{|y|} H(y_{x_j > \\theta})\n",
    "$$\n",
    "\n",
    "In practice, there are a few important adjustments (we will not cover them)"
   ]
  },
  {
   "cell_type": "markdown",
   "metadata": {
    "slideshow": {
     "slide_type": "subslide"
    }
   },
   "source": [
    "## Learning Decision Trees\n",
    "\n",
    "**Common impurity criteria include**\n",
    "\n",
    "The [Gini index](https://en.wikipedia.org/wiki/Gini_coefficient):\n",
    "$$\n",
    "H(y) = \\sum_{k \\in K} p_k (1 - p_k)\n",
    "$$\n",
    "\n",
    "The [information entropy](https://en.wikipedia.org/wiki/Entropy_(information_theory))\n",
    "$$\n",
    "H(y) = - \\sum_{k \\in K} p_k \\log(p_k)\n",
    "$$\n",
    "\n",
    "The misclassification index:\n",
    "$$\n",
    "H(y) = 1 - \\max(p_k)\n",
    "$$\n",
    "\n",
    "In all notations, $p_k$ is the _frequency of class $k$_ in the output vector $y$"
   ]
  },
  {
   "cell_type": "markdown",
   "metadata": {
    "slideshow": {
     "slide_type": "subslide"
    }
   },
   "source": [
    "## Learning Decision Trees\n",
    "\n",
    "**How do we get the attribute and threshold to be evaluated?**\n",
    "\n",
    "We start with a main observation\n",
    "\n",
    "* Two thresholds $\\theta^\\prime$ and $\\theta^{\\prime\\prime}$ actually make a difference\n",
    "* ...Only if they lead to different splits\n",
    "\n",
    "**So we can actually enumerate all attribute/threshold combinations!**\n",
    "\n",
    "* We loop over all the attributes\n",
    "* We consider all the values for the attributes in the training input data $x$\n",
    "* ...And we evaluate all the resulting splits\n",
    "\n",
    "**At the end of the process we have the best $j$, $\\theta$ pair**\n",
    "\n",
    "* It may seem like an expensive calculation\n",
    "* ...But in fact it can be performed very quickly"
   ]
  },
  {
   "cell_type": "markdown",
   "metadata": {
    "slideshow": {
     "slide_type": "subslide"
    }
   },
   "source": [
    "## Learning Decision Trees\n",
    "\n",
    "**The termination condition has some flexibility**\n",
    "\n",
    "* We stop after a certain depth\n",
    "* We stop if there are not enough examples\n",
    "* We stop if there is no way to obtain children with enough examples\n",
    "\n",
    "By tweaking the conditions we can _prevent overfitting_\n",
    "\n",
    "\n",
    "**Decision trees can handle missing values in the dataset**\n",
    "\n",
    "* If we need to split on attribute $j$, which is missing for an example\n",
    "* ...Then we consider fractions of that example\n",
    "  - The fractions depend on how attribute $j$ is distributed for the known examples\n",
    "* One fraction goes in $\\hat{x}_{x_j \\leq \\theta}$, the other in $\\hat{x}_{x_j > \\theta}$"
   ]
  },
  {
   "cell_type": "markdown",
   "metadata": {
    "slideshow": {
     "slide_type": "slide"
    }
   },
   "source": [
    "# A Practical Example"
   ]
  },
  {
   "cell_type": "markdown",
   "metadata": {
    "slideshow": {
     "slide_type": "subslide"
    }
   },
   "source": [
    "## Loading and Preparing the Data\n",
    "\n",
    "**Let's test the approach on the `weather.csv` dataset**\n",
    "\n",
    "We start by loading the data and encoding the categorical attributes:"
   ]
  },
  {
   "cell_type": "code",
   "execution_count": 6,
   "metadata": {},
   "outputs": [
    {
     "data": {
      "text/html": [
       "<div>\n",
       "<style scoped>\n",
       "    .dataframe tbody tr th:only-of-type {\n",
       "        vertical-align: middle;\n",
       "    }\n",
       "\n",
       "    .dataframe tbody tr th {\n",
       "        vertical-align: top;\n",
       "    }\n",
       "\n",
       "    .dataframe thead th {\n",
       "        text-align: right;\n",
       "    }\n",
       "</style>\n",
       "<table border=\"1\" class=\"dataframe\">\n",
       "  <thead>\n",
       "    <tr style=\"text-align: right;\">\n",
       "      <th></th>\n",
       "      <th>outlook</th>\n",
       "      <th>temperature</th>\n",
       "      <th>humidity</th>\n",
       "      <th>windy</th>\n",
       "      <th>play</th>\n",
       "    </tr>\n",
       "  </thead>\n",
       "  <tbody>\n",
       "    <tr>\n",
       "      <th>0</th>\n",
       "      <td>2</td>\n",
       "      <td>85</td>\n",
       "      <td>85</td>\n",
       "      <td>0</td>\n",
       "      <td>0</td>\n",
       "    </tr>\n",
       "    <tr>\n",
       "      <th>1</th>\n",
       "      <td>2</td>\n",
       "      <td>80</td>\n",
       "      <td>90</td>\n",
       "      <td>1</td>\n",
       "      <td>0</td>\n",
       "    </tr>\n",
       "    <tr>\n",
       "      <th>2</th>\n",
       "      <td>0</td>\n",
       "      <td>83</td>\n",
       "      <td>86</td>\n",
       "      <td>0</td>\n",
       "      <td>1</td>\n",
       "    </tr>\n",
       "    <tr>\n",
       "      <th>3</th>\n",
       "      <td>1</td>\n",
       "      <td>70</td>\n",
       "      <td>96</td>\n",
       "      <td>0</td>\n",
       "      <td>1</td>\n",
       "    </tr>\n",
       "    <tr>\n",
       "      <th>4</th>\n",
       "      <td>1</td>\n",
       "      <td>68</td>\n",
       "      <td>80</td>\n",
       "      <td>0</td>\n",
       "      <td>1</td>\n",
       "    </tr>\n",
       "  </tbody>\n",
       "</table>\n",
       "</div>"
      ],
      "text/plain": [
       "   outlook  temperature  humidity  windy  play\n",
       "0        2           85        85      0     0\n",
       "1        2           80        90      1     0\n",
       "2        0           83        86      0     1\n",
       "3        1           70        96      0     1\n",
       "4        1           68        80      0     1"
      ]
     },
     "execution_count": 6,
     "metadata": {},
     "output_type": "execute_result"
    }
   ],
   "source": [
    "data = pd.read_csv('data/weather.csv', sep=',')\n",
    "data['windy'] = data['windy'].astype('category').cat.codes\n",
    "data['play'] = data['play'].astype('category').cat.codes\n",
    "data['outlook'] = data['outlook'].astype('category').cat.codes\n",
    "data.head()"
   ]
  },
  {
   "cell_type": "markdown",
   "metadata": {},
   "source": [
    "* There's _no need to use a one-hot encoding_ for outlook\n",
    "* ...Soince with the splitting mechanism a categorical encoding is enough"
   ]
  },
  {
   "cell_type": "markdown",
   "metadata": {
    "slideshow": {
     "slide_type": "subslide"
    }
   },
   "source": [
    "## Loading and Preparing the Data\n",
    "\n",
    "**Then we separate the training and test set**"
   ]
  },
  {
   "cell_type": "code",
   "execution_count": 7,
   "metadata": {},
   "outputs": [
    {
     "name": "stdout",
     "output_type": "stream",
     "text": [
      "#examples: 9 (training), 5 (test)\n"
     ]
    }
   ],
   "source": [
    "from sklearn.model_selection import train_test_split\n",
    "\n",
    "input_cols = [c for c in data.columns if c != 'play']\n",
    "X, y = data[input_cols], data['play']\n",
    "X_tr, X_ts, y_tr, y_ts = train_test_split(X, y, test_size=0.34, random_state=0)\n",
    "\n",
    "print(f'#examples: {len(X_tr)} (training), {len(X_ts)} (test)')"
   ]
  },
  {
   "cell_type": "markdown",
   "metadata": {},
   "source": [
    "**There no need to normalize the input data**\n",
    "\n",
    "* Not even from an interpretation purpose!\n",
    "* We'll get to that later :-)"
   ]
  },
  {
   "cell_type": "markdown",
   "metadata": {
    "slideshow": {
     "slide_type": "subslide"
    }
   },
   "source": [
    "## Learning a Tree\n",
    "\n",
    "**We will use [scikit-learn](https://scikit-learn.org/) to learn a DT**\n",
    "\n",
    "First, we build the model:"
   ]
  },
  {
   "cell_type": "code",
   "execution_count": 8,
   "metadata": {},
   "outputs": [],
   "source": [
    "from sklearn.tree import DecisionTreeClassifier\n",
    "mdl = DecisionTreeClassifier()"
   ]
  },
  {
   "cell_type": "markdown",
   "metadata": {},
   "source": [
    "* Special termination conditions can be specified when building the object\n",
    "\n",
    "Then we call the fit method:"
   ]
  },
  {
   "cell_type": "code",
   "execution_count": 9,
   "metadata": {},
   "outputs": [],
   "source": [
    "mdl.fit(X_tr, y_tr);"
   ]
  },
  {
   "cell_type": "markdown",
   "metadata": {},
   "source": [
    "* The process is the same we used for Linear Regression\n",
    "* Actually, all scikit-learns model have the same basic API"
   ]
  },
  {
   "cell_type": "markdown",
   "metadata": {
    "slideshow": {
     "slide_type": "subslide"
    }
   },
   "source": [
    "## Plotting the Tree\n",
    "\n",
    "**We can now have a look at the trained tree**"
   ]
  },
  {
   "cell_type": "code",
   "execution_count": 10,
   "metadata": {},
   "outputs": [
    {
     "data": {
      "image/png": "[encoded data removed]",
      "text/plain": [
       "<Figure size 1400x350 with 1 Axes>"
      ]
     },
     "metadata": {},
     "output_type": "display_data"
    }
   ],
   "source": [
    "from sklearn.tree import plot_tree\n",
    "plt.figure(figsize=figsize)\n",
    "plot_tree(mdl);\n",
    "plt.tight_layout(); plt.show()"
   ]
  },
  {
   "cell_type": "markdown",
   "metadata": {
    "slideshow": {
     "slide_type": "subslide"
    }
   },
   "source": [
    "## Evaluting the Tree\n",
    "\n",
    "**Our DT can be evaluated as any other classification model**"
   ]
  },
  {
   "cell_type": "code",
   "execution_count": 11,
   "metadata": {},
   "outputs": [
    {
     "data": {
      "image/png": "[encoded data removed]",
      "text/plain": [
       "<Figure size 640x480 with 2 Axes>"
      ]
     },
     "metadata": {},
     "output_type": "display_data"
    }
   ],
   "source": [
    "from sklearn.metrics import ConfusionMatrixDisplay, accuracy_score\n",
    "ConfusionMatrixDisplay.from_estimator(mdl, X_tr, y_tr, display_labels=['not play', 'play'], cmap='Blues');"
   ]
  }
 ],
 "metadata": {
  "celltoolbar": "Slideshow",
  "kernelspec": {
   "display_name": "Python 3 (ipykernel)",
   "language": "python",
   "name": "python3"
  },
  "language_info": {
   "codemirror_mode": {
    "name": "ipython",
    "version": 3
   },
   "file_extension": ".py",
   "mimetype": "text/x-python",
   "name": "python",
   "nbconvert_exporter": "python",
   "pygments_lexer": "ipython3",
   "version": "3.10.10"
  },
  "rise": {
   "center": false,
   "transition": "fade"
  }
 },
 "nbformat": 4,
 "nbformat_minor": 4
}
